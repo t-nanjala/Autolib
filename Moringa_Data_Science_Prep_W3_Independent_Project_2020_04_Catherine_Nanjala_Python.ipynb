{
  "nbformat": 4,
  "nbformat_minor": 0,
  "metadata": {
    "colab": {
      "name": "Moringa_Data_Science_Prep_W3_Independent_Project_2020_04_Catherine_Nanjala_Python",
      "provenance": [],
      "toc_visible": true,
      "authorship_tag": "ABX9TyOqZ6y/Zkw2fw7wwtDi/u5A",
      "include_colab_link": true
    },
    "kernelspec": {
      "name": "python3",
      "display_name": "Python 3"
    }
  },
  "cells": [
    {
      "cell_type": "markdown",
      "metadata": {
        "id": "view-in-github",
        "colab_type": "text"
      },
      "source": [
        "<a href=\"https://colab.research.google.com/github/t-nanjala/Autolib/blob/master/Moringa_Data_Science_Prep_W3_Independent_Project_2020_04_Catherine_Nanjala_Python.ipynb\" target=\"_parent\"><img src=\"https://colab.research.google.com/assets/colab-badge.svg\" alt=\"Open In Colab\"/></a>"
      ]
    },
    {
      "cell_type": "markdown",
      "metadata": {
        "id": "u8uVfmDKMtZ4",
        "colab_type": "text"
      },
      "source": [
        "#AUTOLIB ELECTRIC CAR SHARING COMPANY"
      ]
    },
    {
      "cell_type": "markdown",
      "metadata": {
        "id": "_8lKXTcKZ_TH",
        "colab_type": "text"
      },
      "source": [
        "Autolib' is an electric car sharing service which was inaugurated in Paris, France, in December 2011. It was operated by the Bolloré industrial group. The Autolib' scheme maintains a fleet of all-electric Bolloré Bluecars for public use on a paid subscription basis, employing a citywide network of parking and charging stations. As of 3 July 2016, 3,980 Bluecars had been registered for the service, and the scheme had more than 126,900 registered subscribers.\n"
      ]
    },
    {
      "cell_type": "markdown",
      "metadata": {
        "id": "s8EmHIgbaSax",
        "colab_type": "text"
      },
      "source": [
        "BUSINESS OBJECTIVE :\n",
        "The business objective would be to process stations data to understand electric car usage over time.\n"
      ]
    },
    {
      "cell_type": "markdown",
      "metadata": {
        "id": "uVaka4UcNLwC",
        "colab_type": "text"
      },
      "source": [
        "## 1.0 Importing the libraries to be used"
      ]
    },
    {
      "cell_type": "markdown",
      "metadata": {
        "id": "xsOQvtwkMenr",
        "colab_type": "text"
      },
      "source": [
        ""
      ]
    },
    {
      "cell_type": "code",
      "metadata": {
        "id": "WDpzGwjEMojE",
        "colab_type": "code",
        "colab": {}
      },
      "source": [
        "#import the pandas library\n",
        "import pandas as pd\n",
        "\n",
        "#import the numpy library\n",
        "import numpy as np"
      ],
      "execution_count": 0,
      "outputs": []
    },
    {
      "cell_type": "markdown",
      "metadata": {
        "id": "uXGyVLLIOuy7",
        "colab_type": "text"
      },
      "source": [
        "##1.1 Reading the Dataset from our CSV file"
      ]
    },
    {
      "cell_type": "code",
      "metadata": {
        "id": "NkmUjKgFOCd0",
        "colab_type": "code",
        "colab": {}
      },
      "source": [
        "df = pd.read_csv('Autolib_dataset.csv')"
      ],
      "execution_count": 0,
      "outputs": []
    },
    {
      "cell_type": "markdown",
      "metadata": {
        "id": "eleyxbBYPK9y",
        "colab_type": "text"
      },
      "source": [
        "##1.2 Previewing our Dataset"
      ]
    },
    {
      "cell_type": "code",
      "metadata": {
        "id": "5VtylBLQRHPs",
        "colab_type": "code",
        "outputId": "f4011821-91c0-48f1-8e8b-afeca608ffaf",
        "colab": {
          "base_uri": "https://localhost:8080/",
          "height": 434
        }
      },
      "source": [
        "df.head()"
      ],
      "execution_count": 7,
      "outputs": [
        {
          "output_type": "execute_result",
          "data": {
            "text/html": [
              "<div>\n",
              "<style scoped>\n",
              "    .dataframe tbody tr th:only-of-type {\n",
              "        vertical-align: middle;\n",
              "    }\n",
              "\n",
              "    .dataframe tbody tr th {\n",
              "        vertical-align: top;\n",
              "    }\n",
              "\n",
              "    .dataframe thead th {\n",
              "        text-align: right;\n",
              "    }\n",
              "</style>\n",
              "<table border=\"1\" class=\"dataframe\">\n",
              "  <thead>\n",
              "    <tr style=\"text-align: right;\">\n",
              "      <th></th>\n",
              "      <th>Address</th>\n",
              "      <th>Cars</th>\n",
              "      <th>Bluecar counter</th>\n",
              "      <th>Utilib counter</th>\n",
              "      <th>Utilib 1.4 counter</th>\n",
              "      <th>Charge Slots</th>\n",
              "      <th>Charging Status</th>\n",
              "      <th>City</th>\n",
              "      <th>Displayed comment</th>\n",
              "      <th>ID</th>\n",
              "      <th>Kind</th>\n",
              "      <th>Geo point</th>\n",
              "      <th>Postal code</th>\n",
              "      <th>Public name</th>\n",
              "      <th>Rental status</th>\n",
              "      <th>Scheduled at</th>\n",
              "      <th>Slots</th>\n",
              "      <th>Station type</th>\n",
              "      <th>Status</th>\n",
              "      <th>Subscription status</th>\n",
              "      <th>year</th>\n",
              "      <th>month</th>\n",
              "      <th>day</th>\n",
              "      <th>hour</th>\n",
              "      <th>minute</th>\n",
              "    </tr>\n",
              "  </thead>\n",
              "  <tbody>\n",
              "    <tr>\n",
              "      <th>0</th>\n",
              "      <td>2 Avenue de Suffren</td>\n",
              "      <td>0</td>\n",
              "      <td>0</td>\n",
              "      <td>0</td>\n",
              "      <td>0</td>\n",
              "      <td>0</td>\n",
              "      <td>nonexistent</td>\n",
              "      <td>Paris</td>\n",
              "      <td>NaN</td>\n",
              "      <td>paris-suffren-2</td>\n",
              "      <td>STATION</td>\n",
              "      <td>48.857, 2.2917</td>\n",
              "      <td>75015</td>\n",
              "      <td>Paris/Suffren/2</td>\n",
              "      <td>operational</td>\n",
              "      <td>NaN</td>\n",
              "      <td>2</td>\n",
              "      <td>station</td>\n",
              "      <td>ok</td>\n",
              "      <td>nonexistent</td>\n",
              "      <td>2018</td>\n",
              "      <td>4</td>\n",
              "      <td>8</td>\n",
              "      <td>11</td>\n",
              "      <td>43</td>\n",
              "    </tr>\n",
              "    <tr>\n",
              "      <th>1</th>\n",
              "      <td>145 Rue Raymond Losserand</td>\n",
              "      <td>6</td>\n",
              "      <td>6</td>\n",
              "      <td>0</td>\n",
              "      <td>0</td>\n",
              "      <td>0</td>\n",
              "      <td>operational</td>\n",
              "      <td>Paris</td>\n",
              "      <td>NaN</td>\n",
              "      <td>paris-raymondlosserand-145</td>\n",
              "      <td>STATION</td>\n",
              "      <td>48.83126, 2.313088</td>\n",
              "      <td>75014</td>\n",
              "      <td>Paris/Raymond Losserand/145</td>\n",
              "      <td>operational</td>\n",
              "      <td>NaN</td>\n",
              "      <td>0</td>\n",
              "      <td>station</td>\n",
              "      <td>ok</td>\n",
              "      <td>nonexistent</td>\n",
              "      <td>2018</td>\n",
              "      <td>4</td>\n",
              "      <td>6</td>\n",
              "      <td>7</td>\n",
              "      <td>24</td>\n",
              "    </tr>\n",
              "    <tr>\n",
              "      <th>2</th>\n",
              "      <td>2 Avenue John Fitzgerald Kennedy</td>\n",
              "      <td>3</td>\n",
              "      <td>3</td>\n",
              "      <td>0</td>\n",
              "      <td>2</td>\n",
              "      <td>0</td>\n",
              "      <td>operational</td>\n",
              "      <td>Le Bourget</td>\n",
              "      <td>NaN</td>\n",
              "      <td>lebourget-johnfitzgeraldkennedy-2</td>\n",
              "      <td>STATION</td>\n",
              "      <td>48.938103, 2.4286035</td>\n",
              "      <td>93350</td>\n",
              "      <td>Le Bourget/John Fitzgerald Kennedy/2</td>\n",
              "      <td>operational</td>\n",
              "      <td>NaN</td>\n",
              "      <td>1</td>\n",
              "      <td>station</td>\n",
              "      <td>ok</td>\n",
              "      <td>nonexistent</td>\n",
              "      <td>2018</td>\n",
              "      <td>4</td>\n",
              "      <td>3</td>\n",
              "      <td>20</td>\n",
              "      <td>14</td>\n",
              "    </tr>\n",
              "    <tr>\n",
              "      <th>3</th>\n",
              "      <td>51 Rue EugÃ¨ne OudinÃ©</td>\n",
              "      <td>3</td>\n",
              "      <td>3</td>\n",
              "      <td>1</td>\n",
              "      <td>0</td>\n",
              "      <td>1</td>\n",
              "      <td>operational</td>\n",
              "      <td>Paris</td>\n",
              "      <td>NaN</td>\n",
              "      <td>paris-eugeneoudine-51</td>\n",
              "      <td>STATION</td>\n",
              "      <td>48.8250327, 2.3725162</td>\n",
              "      <td>75013</td>\n",
              "      <td>Paris/EugÃ¨ne OudinÃ©/51</td>\n",
              "      <td>operational</td>\n",
              "      <td>NaN</td>\n",
              "      <td>2</td>\n",
              "      <td>station</td>\n",
              "      <td>ok</td>\n",
              "      <td>nonexistent</td>\n",
              "      <td>2018</td>\n",
              "      <td>4</td>\n",
              "      <td>4</td>\n",
              "      <td>4</td>\n",
              "      <td>37</td>\n",
              "    </tr>\n",
              "    <tr>\n",
              "      <th>4</th>\n",
              "      <td>6 avenue de la Porte de Champerret</td>\n",
              "      <td>3</td>\n",
              "      <td>3</td>\n",
              "      <td>0</td>\n",
              "      <td>0</td>\n",
              "      <td>0</td>\n",
              "      <td>nonexistent</td>\n",
              "      <td>Paris</td>\n",
              "      <td>NaN</td>\n",
              "      <td>paris-portedechamperret-6</td>\n",
              "      <td>PARKING</td>\n",
              "      <td>48.8862632, 2.2874511</td>\n",
              "      <td>75017</td>\n",
              "      <td>Paris/Porte de Champerret/6</td>\n",
              "      <td>operational</td>\n",
              "      <td>NaN</td>\n",
              "      <td>3</td>\n",
              "      <td>station</td>\n",
              "      <td>ok</td>\n",
              "      <td>nonexistent</td>\n",
              "      <td>2018</td>\n",
              "      <td>4</td>\n",
              "      <td>8</td>\n",
              "      <td>17</td>\n",
              "      <td>23</td>\n",
              "    </tr>\n",
              "  </tbody>\n",
              "</table>\n",
              "</div>"
            ],
            "text/plain": [
              "                              Address  Cars  Bluecar counter  ...  day  hour  minute\n",
              "0                 2 Avenue de Suffren     0                0  ...    8    11      43\n",
              "1           145 Rue Raymond Losserand     6                6  ...    6     7      24\n",
              "2    2 Avenue John Fitzgerald Kennedy     3                3  ...    3    20      14\n",
              "3              51 Rue EugÃ¨ne OudinÃ©     3                3  ...    4     4      37\n",
              "4  6 avenue de la Porte de Champerret     3                3  ...    8    17      23\n",
              "\n",
              "[5 rows x 25 columns]"
            ]
          },
          "metadata": {
            "tags": []
          },
          "execution_count": 7
        }
      ]
    },
    {
      "cell_type": "markdown",
      "metadata": {
        "id": "YFv6vIRvPUmO",
        "colab_type": "text"
      },
      "source": [
        "##1.3 Accessing Information about our Dataset"
      ]
    },
    {
      "cell_type": "code",
      "metadata": {
        "id": "i3TeCY-1PaNK",
        "colab_type": "code",
        "outputId": "49474263-0c48-457f-c845-afc4c7300776",
        "colab": {
          "base_uri": "https://localhost:8080/",
          "height": 585
        }
      },
      "source": [
        "df.info()"
      ],
      "execution_count": 8,
      "outputs": [
        {
          "output_type": "stream",
          "text": [
            "<class 'pandas.core.frame.DataFrame'>\n",
            "RangeIndex: 5000 entries, 0 to 4999\n",
            "Data columns (total 25 columns):\n",
            " #   Column               Non-Null Count  Dtype \n",
            "---  ------               --------------  ----- \n",
            " 0   Address              5000 non-null   object\n",
            " 1   Cars                 5000 non-null   int64 \n",
            " 2   Bluecar counter      5000 non-null   int64 \n",
            " 3   Utilib counter       5000 non-null   int64 \n",
            " 4   Utilib 1.4 counter   5000 non-null   int64 \n",
            " 5   Charge Slots         5000 non-null   int64 \n",
            " 6   Charging Status      5000 non-null   object\n",
            " 7   City                 5000 non-null   object\n",
            " 8   Displayed comment    111 non-null    object\n",
            " 9   ID                   5000 non-null   object\n",
            " 10  Kind                 5000 non-null   object\n",
            " 11  Geo point            5000 non-null   object\n",
            " 12  Postal code          5000 non-null   int64 \n",
            " 13  Public name          5000 non-null   object\n",
            " 14  Rental status        5000 non-null   object\n",
            " 15  Scheduled at         47 non-null     object\n",
            " 16  Slots                5000 non-null   int64 \n",
            " 17  Station type         5000 non-null   object\n",
            " 18  Status               5000 non-null   object\n",
            " 19  Subscription status  5000 non-null   object\n",
            " 20  year                 5000 non-null   int64 \n",
            " 21  month                5000 non-null   int64 \n",
            " 22  day                  5000 non-null   int64 \n",
            " 23  hour                 5000 non-null   int64 \n",
            " 24  minute               5000 non-null   int64 \n",
            "dtypes: int64(12), object(13)\n",
            "memory usage: 976.7+ KB\n"
          ],
          "name": "stdout"
        }
      ]
    },
    {
      "cell_type": "markdown",
      "metadata": {
        "id": "C2tiXZqPPanh",
        "colab_type": "text"
      },
      "source": [
        "## 1.4 Cleaning our Dataset"
      ]
    },
    {
      "cell_type": "markdown",
      "metadata": {
        "id": "fMlRZvmjPfOB",
        "colab_type": "text"
      },
      "source": [
        "### 1.41) Validity"
      ]
    },
    {
      "cell_type": "code",
      "metadata": {
        "id": "ngAncBvxgnr5",
        "colab_type": "code",
        "colab": {}
      },
      "source": [
        "#Dropping of columns that seem duplicative or irrelevant \n",
        "df.drop(['Cars', 'Charging Status', 'Status', 'Displayed comment','Geo point', 'Scheduled at'],inplace=True,axis=1)"
      ],
      "execution_count": 0,
      "outputs": []
    },
    {
      "cell_type": "code",
      "metadata": {
        "id": "rF9lhF9ljyXW",
        "colab_type": "code",
        "outputId": "b63dbcc5-3ae1-4b69-ea8b-e1fe134f32ff",
        "colab": {
          "base_uri": "https://localhost:8080/",
          "height": 434
        }
      },
      "source": [
        "#reviewing the columns\n",
        "df.head()"
      ],
      "execution_count": 10,
      "outputs": [
        {
          "output_type": "execute_result",
          "data": {
            "text/html": [
              "<div>\n",
              "<style scoped>\n",
              "    .dataframe tbody tr th:only-of-type {\n",
              "        vertical-align: middle;\n",
              "    }\n",
              "\n",
              "    .dataframe tbody tr th {\n",
              "        vertical-align: top;\n",
              "    }\n",
              "\n",
              "    .dataframe thead th {\n",
              "        text-align: right;\n",
              "    }\n",
              "</style>\n",
              "<table border=\"1\" class=\"dataframe\">\n",
              "  <thead>\n",
              "    <tr style=\"text-align: right;\">\n",
              "      <th></th>\n",
              "      <th>Address</th>\n",
              "      <th>Bluecar counter</th>\n",
              "      <th>Utilib counter</th>\n",
              "      <th>Utilib 1.4 counter</th>\n",
              "      <th>Charge Slots</th>\n",
              "      <th>City</th>\n",
              "      <th>ID</th>\n",
              "      <th>Kind</th>\n",
              "      <th>Postal code</th>\n",
              "      <th>Public name</th>\n",
              "      <th>Rental status</th>\n",
              "      <th>Slots</th>\n",
              "      <th>Station type</th>\n",
              "      <th>Subscription status</th>\n",
              "      <th>year</th>\n",
              "      <th>month</th>\n",
              "      <th>day</th>\n",
              "      <th>hour</th>\n",
              "      <th>minute</th>\n",
              "    </tr>\n",
              "  </thead>\n",
              "  <tbody>\n",
              "    <tr>\n",
              "      <th>0</th>\n",
              "      <td>2 Avenue de Suffren</td>\n",
              "      <td>0</td>\n",
              "      <td>0</td>\n",
              "      <td>0</td>\n",
              "      <td>0</td>\n",
              "      <td>Paris</td>\n",
              "      <td>paris-suffren-2</td>\n",
              "      <td>STATION</td>\n",
              "      <td>75015</td>\n",
              "      <td>Paris/Suffren/2</td>\n",
              "      <td>operational</td>\n",
              "      <td>2</td>\n",
              "      <td>station</td>\n",
              "      <td>nonexistent</td>\n",
              "      <td>2018</td>\n",
              "      <td>4</td>\n",
              "      <td>8</td>\n",
              "      <td>11</td>\n",
              "      <td>43</td>\n",
              "    </tr>\n",
              "    <tr>\n",
              "      <th>1</th>\n",
              "      <td>145 Rue Raymond Losserand</td>\n",
              "      <td>6</td>\n",
              "      <td>0</td>\n",
              "      <td>0</td>\n",
              "      <td>0</td>\n",
              "      <td>Paris</td>\n",
              "      <td>paris-raymondlosserand-145</td>\n",
              "      <td>STATION</td>\n",
              "      <td>75014</td>\n",
              "      <td>Paris/Raymond Losserand/145</td>\n",
              "      <td>operational</td>\n",
              "      <td>0</td>\n",
              "      <td>station</td>\n",
              "      <td>nonexistent</td>\n",
              "      <td>2018</td>\n",
              "      <td>4</td>\n",
              "      <td>6</td>\n",
              "      <td>7</td>\n",
              "      <td>24</td>\n",
              "    </tr>\n",
              "    <tr>\n",
              "      <th>2</th>\n",
              "      <td>2 Avenue John Fitzgerald Kennedy</td>\n",
              "      <td>3</td>\n",
              "      <td>0</td>\n",
              "      <td>2</td>\n",
              "      <td>0</td>\n",
              "      <td>Le Bourget</td>\n",
              "      <td>lebourget-johnfitzgeraldkennedy-2</td>\n",
              "      <td>STATION</td>\n",
              "      <td>93350</td>\n",
              "      <td>Le Bourget/John Fitzgerald Kennedy/2</td>\n",
              "      <td>operational</td>\n",
              "      <td>1</td>\n",
              "      <td>station</td>\n",
              "      <td>nonexistent</td>\n",
              "      <td>2018</td>\n",
              "      <td>4</td>\n",
              "      <td>3</td>\n",
              "      <td>20</td>\n",
              "      <td>14</td>\n",
              "    </tr>\n",
              "    <tr>\n",
              "      <th>3</th>\n",
              "      <td>51 Rue EugÃ¨ne OudinÃ©</td>\n",
              "      <td>3</td>\n",
              "      <td>1</td>\n",
              "      <td>0</td>\n",
              "      <td>1</td>\n",
              "      <td>Paris</td>\n",
              "      <td>paris-eugeneoudine-51</td>\n",
              "      <td>STATION</td>\n",
              "      <td>75013</td>\n",
              "      <td>Paris/EugÃ¨ne OudinÃ©/51</td>\n",
              "      <td>operational</td>\n",
              "      <td>2</td>\n",
              "      <td>station</td>\n",
              "      <td>nonexistent</td>\n",
              "      <td>2018</td>\n",
              "      <td>4</td>\n",
              "      <td>4</td>\n",
              "      <td>4</td>\n",
              "      <td>37</td>\n",
              "    </tr>\n",
              "    <tr>\n",
              "      <th>4</th>\n",
              "      <td>6 avenue de la Porte de Champerret</td>\n",
              "      <td>3</td>\n",
              "      <td>0</td>\n",
              "      <td>0</td>\n",
              "      <td>0</td>\n",
              "      <td>Paris</td>\n",
              "      <td>paris-portedechamperret-6</td>\n",
              "      <td>PARKING</td>\n",
              "      <td>75017</td>\n",
              "      <td>Paris/Porte de Champerret/6</td>\n",
              "      <td>operational</td>\n",
              "      <td>3</td>\n",
              "      <td>station</td>\n",
              "      <td>nonexistent</td>\n",
              "      <td>2018</td>\n",
              "      <td>4</td>\n",
              "      <td>8</td>\n",
              "      <td>17</td>\n",
              "      <td>23</td>\n",
              "    </tr>\n",
              "  </tbody>\n",
              "</table>\n",
              "</div>"
            ],
            "text/plain": [
              "                              Address  Bluecar counter  ...  hour  minute\n",
              "0                 2 Avenue de Suffren                0  ...    11      43\n",
              "1           145 Rue Raymond Losserand                6  ...     7      24\n",
              "2    2 Avenue John Fitzgerald Kennedy                3  ...    20      14\n",
              "3              51 Rue EugÃ¨ne OudinÃ©                3  ...     4      37\n",
              "4  6 avenue de la Porte de Champerret                3  ...    17      23\n",
              "\n",
              "[5 rows x 19 columns]"
            ]
          },
          "metadata": {
            "tags": []
          },
          "execution_count": 10
        }
      ]
    },
    {
      "cell_type": "markdown",
      "metadata": {
        "id": "Chi1CtbPPmNv",
        "colab_type": "text"
      },
      "source": [
        "### 1.42) Accuracy"
      ]
    },
    {
      "cell_type": "code",
      "metadata": {
        "id": "jSg9yqxzj7Ul",
        "colab_type": "code",
        "colab": {}
      },
      "source": [
        "# The data is assumed to have no inrecord errors thus assumed to be fully accurate"
      ],
      "execution_count": 0,
      "outputs": []
    },
    {
      "cell_type": "markdown",
      "metadata": {
        "id": "w8blHcpEPr8p",
        "colab_type": "text"
      },
      "source": [
        "### 1.43) Completeness"
      ]
    },
    {
      "cell_type": "code",
      "metadata": {
        "id": "HWieP_nhmHa-",
        "colab_type": "code",
        "outputId": "e0a62d8f-1817-4e6a-ed8a-c40fbae066bf",
        "colab": {
          "base_uri": "https://localhost:8080/",
          "height": 372
        }
      },
      "source": [
        "#Missing values are checked\n",
        "df.isnull().sum()"
      ],
      "execution_count": 11,
      "outputs": [
        {
          "output_type": "execute_result",
          "data": {
            "text/plain": [
              "Address                0\n",
              "Bluecar counter        0\n",
              "Utilib counter         0\n",
              "Utilib 1.4 counter     0\n",
              "Charge Slots           0\n",
              "City                   0\n",
              "ID                     0\n",
              "Kind                   0\n",
              "Postal code            0\n",
              "Public name            0\n",
              "Rental status          0\n",
              "Slots                  0\n",
              "Station type           0\n",
              "Subscription status    0\n",
              "year                   0\n",
              "month                  0\n",
              "day                    0\n",
              "hour                   0\n",
              "minute                 0\n",
              "dtype: int64"
            ]
          },
          "metadata": {
            "tags": []
          },
          "execution_count": 11
        }
      ]
    },
    {
      "cell_type": "markdown",
      "metadata": {
        "id": "CJQwYYUbPwqo",
        "colab_type": "text"
      },
      "source": [
        "### 1.44) Consitency"
      ]
    },
    {
      "cell_type": "code",
      "metadata": {
        "id": "wJLcr6pKosJb",
        "colab_type": "code",
        "outputId": "928047e0-568e-400a-8862-ce7a25373596",
        "colab": {
          "base_uri": "https://localhost:8080/",
          "height": 34
        }
      },
      "source": [
        "#Checking for duplicated values\n",
        "df.duplicated \n",
        "df.drop_duplicates #drop all duplicated rows\n",
        "df.shape #Confirmation of new rows "
      ],
      "execution_count": 12,
      "outputs": [
        {
          "output_type": "execute_result",
          "data": {
            "text/plain": [
              "(5000, 19)"
            ]
          },
          "metadata": {
            "tags": []
          },
          "execution_count": 12
        }
      ]
    },
    {
      "cell_type": "markdown",
      "metadata": {
        "id": "aOCojzLmP06q",
        "colab_type": "text"
      },
      "source": [
        "### 1.45) Uniformity"
      ]
    },
    {
      "cell_type": "code",
      "metadata": {
        "id": "MluUwGCosrSh",
        "colab_type": "code",
        "outputId": "b3311be5-20d8-464d-f41d-e27998bffd40",
        "colab": {
          "base_uri": "https://localhost:8080/",
          "height": 478
        }
      },
      "source": [
        "#Renaming columns\n",
        "df.columns= ['address','bluecar','utilib','utilib_1.4','charge_slots','city','station_id','kind','postal_code','public_name','rental_status','slots','station_type','subscription_status','year','month','day','hour','minute']\n",
        "df.info() #confirming the new column names"
      ],
      "execution_count": 13,
      "outputs": [
        {
          "output_type": "stream",
          "text": [
            "<class 'pandas.core.frame.DataFrame'>\n",
            "RangeIndex: 5000 entries, 0 to 4999\n",
            "Data columns (total 19 columns):\n",
            " #   Column               Non-Null Count  Dtype \n",
            "---  ------               --------------  ----- \n",
            " 0   address              5000 non-null   object\n",
            " 1   bluecar              5000 non-null   int64 \n",
            " 2   utilib               5000 non-null   int64 \n",
            " 3   utilib_1.4           5000 non-null   int64 \n",
            " 4   charge_slots         5000 non-null   int64 \n",
            " 5   city                 5000 non-null   object\n",
            " 6   station_id           5000 non-null   object\n",
            " 7   kind                 5000 non-null   object\n",
            " 8   postal_code          5000 non-null   int64 \n",
            " 9   public_name          5000 non-null   object\n",
            " 10  rental_status        5000 non-null   object\n",
            " 11  slots                5000 non-null   int64 \n",
            " 12  station_type         5000 non-null   object\n",
            " 13  subscription_status  5000 non-null   object\n",
            " 14  year                 5000 non-null   int64 \n",
            " 15  month                5000 non-null   int64 \n",
            " 16  day                  5000 non-null   int64 \n",
            " 17  hour                 5000 non-null   int64 \n",
            " 18  minute               5000 non-null   int64 \n",
            "dtypes: int64(11), object(8)\n",
            "memory usage: 742.3+ KB\n"
          ],
          "name": "stdout"
        }
      ]
    },
    {
      "cell_type": "markdown",
      "metadata": {
        "id": "vzd6ewv7P5s7",
        "colab_type": "text"
      },
      "source": [
        "##1.5 Exporting the Cleaned Dataset"
      ]
    },
    {
      "cell_type": "code",
      "metadata": {
        "id": "HLTibi8jHVZj",
        "colab_type": "code",
        "colab": {}
      },
      "source": [
        "df.to_csv('Autolib_dataset.csv')"
      ],
      "execution_count": 0,
      "outputs": []
    },
    {
      "cell_type": "markdown",
      "metadata": {
        "id": "6fS2RTf1QCgA",
        "colab_type": "text"
      },
      "source": [
        "## 1.6 Data Analysis"
      ]
    },
    {
      "cell_type": "markdown",
      "metadata": {
        "id": "C9tkOfe9iFy7",
        "colab_type": "text"
      },
      "source": [
        "###1.61 Bluecar"
      ]
    },
    {
      "cell_type": "markdown",
      "metadata": {
        "id": "R9j-pxExFrUg",
        "colab_type": "text"
      },
      "source": [
        "Identify the most popular hour of the day for picking up a Bluecar in the city of Paris over the month of April 2018.\n"
      ]
    },
    {
      "cell_type": "code",
      "metadata": {
        "id": "ZFcMilH76zNe",
        "colab_type": "code",
        "colab": {
          "base_uri": "https://localhost:8080/",
          "height": 141
        },
        "outputId": "8e166137-0e9b-44c5-c8b7-bd8870251799"
      },
      "source": [
        "x = df[(df['city'] == 'Paris') & (df['bluecar'] == 0)]\n",
        "pophr = x.groupby(['hour']).size().sort_values(ascending=False)\n",
        "pophr.head()\n",
        " "
      ],
      "execution_count": 124,
      "outputs": [
        {
          "output_type": "execute_result",
          "data": {
            "text/plain": [
              "hour\n",
              "2     54\n",
              "21    52\n",
              "3     52\n",
              "16    50\n",
              "23    49\n",
              "dtype: int64"
            ]
          },
          "metadata": {
            "tags": []
          },
          "execution_count": 124
        }
      ]
    },
    {
      "cell_type": "markdown",
      "metadata": {
        "id": "pU36yXzRwN4W",
        "colab_type": "text"
      },
      "source": [
        "Determine the most popular hour for returning cars.\n"
      ]
    },
    {
      "cell_type": "code",
      "metadata": {
        "id": "NPmt7F31uEIt",
        "colab_type": "code",
        "colab": {
          "base_uri": "https://localhost:8080/",
          "height": 141
        },
        "outputId": "604b190c-f333-4bf9-c793-9bbf9416efd0"
      },
      "source": [
        "y = df[(df['slots'] == 0) & (df['bluecar'] > 0)]\n",
        "hr = y.groupby(['hour']).size().sort_values(ascending=False)\n",
        "hr.head()\n"
      ],
      "execution_count": 125,
      "outputs": [
        {
          "output_type": "execute_result",
          "data": {
            "text/plain": [
              "hour\n",
              "6     63\n",
              "13    63\n",
              "5     62\n",
              "9     61\n",
              "7     61\n",
              "dtype: int64"
            ]
          },
          "metadata": {
            "tags": []
          },
          "execution_count": 125
        }
      ]
    },
    {
      "cell_type": "markdown",
      "metadata": {
        "id": "KP4VfjORq3-X",
        "colab_type": "text"
      },
      "source": [
        "Identify the station that is the most popular overall."
      ]
    },
    {
      "cell_type": "code",
      "metadata": {
        "id": "XXJOhp3Fq10_",
        "colab_type": "code",
        "colab": {
          "base_uri": "https://localhost:8080/",
          "height": 70
        },
        "outputId": "ab9530cc-9a54-43cd-c630-1bf60d823a31"
      },
      "source": [
        "z = df[(df['kind'] == 'STATION') & (df['bluecar'] == 0)]\n",
        "st = z.groupby(['public_name']).size().sort_values(ascending=False)\n",
        "st.head(1)\n"
      ],
      "execution_count": 105,
      "outputs": [
        {
          "output_type": "execute_result",
          "data": {
            "text/plain": [
              "public_name\n",
              "Limeil-BrÃ©vannes/Lavoisier/12    8\n",
              "dtype: int64"
            ]
          },
          "metadata": {
            "tags": []
          },
          "execution_count": 105
        }
      ]
    },
    {
      "cell_type": "markdown",
      "metadata": {
        "id": "wJzNVxJi7yum",
        "colab_type": "text"
      },
      "source": [
        "Determine the station that is the most popular at the most popular picking hour."
      ]
    },
    {
      "cell_type": "code",
      "metadata": {
        "id": "pn7_oJ7d77YN",
        "colab_type": "code",
        "colab": {
          "base_uri": "https://localhost:8080/",
          "height": 176
        },
        "outputId": "39e448d8-78d7-4ca3-e007-35db4121df66"
      },
      "source": [
        "\n",
        "a = z[(z['hour'] == 2)]\n",
        "b = a.groupby(['public_name']).size().sort_values(ascending=False)\n",
        "b.head(7)"
      ],
      "execution_count": 106,
      "outputs": [
        {
          "output_type": "execute_result",
          "data": {
            "text/plain": [
              "public_name\n",
              "Versailles/Bonne Aventure/68    1\n",
              "Paris/Commandant Lamy/2         1\n",
              "Paris/Grande ArmÃ©e/81          1\n",
              "Paris/Georges Mandel/42         1\n",
              "Paris/Friedland/42              1\n",
              "Paris/FranÃ§ois 1er/38          1\n",
              "Paris/Francois 1er/7            1\n",
              "dtype: int64"
            ]
          },
          "metadata": {
            "tags": []
          },
          "execution_count": 106
        }
      ]
    },
    {
      "cell_type": "markdown",
      "metadata": {
        "id": "YGGPexiC8j2j",
        "colab_type": "text"
      },
      "source": [
        "Identify the postal code that is the most popular for picking up Blue cars and if the most popular station belongs to the postal code overall and at the most popular picking hour.\n"
      ]
    },
    {
      "cell_type": "code",
      "metadata": {
        "id": "APcTl_nP88RB",
        "colab_type": "code",
        "colab": {
          "base_uri": "https://localhost:8080/",
          "height": 70
        },
        "outputId": "e17dad7b-b312-40ea-c86b-cbd2ffa164a5"
      },
      "source": [
        "x = df[(df['bluecar'] == 0 ) & (df['slots'] > 0)]\n",
        "pst = x.groupby('postal_code').size().sort_values(ascending=False)\n",
        "pst.head(1)\n"
      ],
      "execution_count": 98,
      "outputs": [
        {
          "output_type": "execute_result",
          "data": {
            "text/plain": [
              "postal_code\n",
              "75008    85\n",
              "dtype: int64"
            ]
          },
          "metadata": {
            "tags": []
          },
          "execution_count": 98
        }
      ]
    },
    {
      "cell_type": "code",
      "metadata": {
        "id": "h_YHye9MSCuF",
        "colab_type": "code",
        "colab": {
          "base_uri": "https://localhost:8080/",
          "height": 496
        },
        "outputId": "74759af2-f6a2-40c8-f6be-5f7fe9775b98"
      },
      "source": [
        "c = df[(df['bluecar'] > 0 ) & (df['slots'] > 0) & (df['postal_code'] == 75008)]\n",
        "dst = c.groupby('public_name').size().sort_values(ascending=False)\n",
        "dst"
      ],
      "execution_count": 126,
      "outputs": [
        {
          "output_type": "execute_result",
          "data": {
            "text/plain": [
              "public_name\n",
              "Paris/Rome/73              5\n",
              "Paris/Courcelles/69        4\n",
              "Paris/LiÃ¨ge/24            3\n",
              "Paris/Saint-HonorÃ©/161    3\n",
              "Paris/Monceau/43           3\n",
              "Paris/Haussmann/61         3\n",
              "Paris/Malesherbes/113      3\n",
              "Paris/Concorde/Parking     2\n",
              "Paris/Friedland/42         2\n",
              "Paris/Chateaubriand/19     2\n",
              "Paris/Saint-HonorÃ©/422    2\n",
              "Paris/Malesherbes/7        2\n",
              "Paris/Matignon/2           2\n",
              "Paris/Berri/10             2\n",
              "Paris/Saint-HonorÃ©/123    2\n",
              "Paris/Constantinople/4     1\n",
              "Paris/Astorg/11            1\n",
              "Paris/Saint-HonorÃ©/91     1\n",
              "Paris/Hoche/31             1\n",
              "Paris/Courcelles/40        1\n",
              "Paris/Francois 1er/7       1\n",
              "Paris/George V/44          1\n",
              "Paris/Messine/12           1\n",
              "Paris/Rome/46              1\n",
              "Paris/Artois/11            1\n",
              "dtype: int64"
            ]
          },
          "metadata": {
            "tags": []
          },
          "execution_count": 126
        }
      ]
    },
    {
      "cell_type": "code",
      "metadata": {
        "id": "h2tLCrpzUqSD",
        "colab_type": "code",
        "colab": {
          "base_uri": "https://localhost:8080/",
          "height": 158
        },
        "outputId": "55348ea1-072d-4086-9603-7e012b66910b"
      },
      "source": [
        "c = df[(df['bluecar'] == 0 ) & (df['slots'] > 0) & (df['hour'] == 2) & (df['postal_code'] == 75008)]\n",
        "dst = c.groupby('public_name').size().sort_values(ascending=False)\n",
        "dst"
      ],
      "execution_count": 127,
      "outputs": [
        {
          "output_type": "execute_result",
          "data": {
            "text/plain": [
              "public_name\n",
              "Paris/Friedland/42        1\n",
              "Paris/FranÃ§ois 1er/38    1\n",
              "Paris/Francois 1er/7      1\n",
              "Paris/Dutuit/1            1\n",
              "Paris/Batignolles/9       1\n",
              "Paris/Artois/11           1\n",
              "dtype: int64"
            ]
          },
          "metadata": {
            "tags": []
          },
          "execution_count": 127
        }
      ]
    },
    {
      "cell_type": "markdown",
      "metadata": {
        "id": "cDvzPtJaZLnU",
        "colab_type": "text"
      },
      "source": [
        "### 1.62 Utilib"
      ]
    },
    {
      "cell_type": "markdown",
      "metadata": {
        "id": "BmgkdNPHaROC",
        "colab_type": "text"
      },
      "source": [
        "Identify the most popular hour of the day for picking up a utilib car in the city of Paris over the month of April 2018\n"
      ]
    },
    {
      "cell_type": "code",
      "metadata": {
        "id": "uCZlJc0IZm_N",
        "colab_type": "code",
        "colab": {
          "base_uri": "https://localhost:8080/",
          "height": 141
        },
        "outputId": "488a0828-3c4a-4ab9-d9fa-3763d0cd5c9f"
      },
      "source": [
        "x = df[(df['city'] == 'Paris') & (df['utilib'] == 0)]\n",
        "pophr = x.groupby(['hour']).size().sort_values(ascending=False)\n",
        "pophr.head()\n",
        " "
      ],
      "execution_count": 108,
      "outputs": [
        {
          "output_type": "execute_result",
          "data": {
            "text/plain": [
              "hour\n",
              "21    140\n",
              "16    124\n",
              "3     120\n",
              "8     119\n",
              "9     117\n",
              "dtype: int64"
            ]
          },
          "metadata": {
            "tags": []
          },
          "execution_count": 108
        }
      ]
    },
    {
      "cell_type": "markdown",
      "metadata": {
        "id": "B7gZMPKAadze",
        "colab_type": "text"
      },
      "source": [
        "Determine the most popular hour for returning cars"
      ]
    },
    {
      "cell_type": "code",
      "metadata": {
        "id": "X0YGT1ogZ7Rp",
        "colab_type": "code",
        "colab": {
          "base_uri": "https://localhost:8080/",
          "height": 141
        },
        "outputId": "07142a5e-66de-4798-f294-d95bf1bae440"
      },
      "source": [
        "y = df[(df['slots'] == 0) & (df['utilib'] > 0)]\n",
        "hr = y.groupby(['hour']).size().sort_values(ascending=False)\n",
        "hr.head()\n"
      ],
      "execution_count": 102,
      "outputs": [
        {
          "output_type": "execute_result",
          "data": {
            "text/plain": [
              "hour\n",
              "5     11\n",
              "7     10\n",
              "22     8\n",
              "14     8\n",
              "6      7\n",
              "dtype: int64"
            ]
          },
          "metadata": {
            "tags": []
          },
          "execution_count": 102
        }
      ]
    },
    {
      "cell_type": "markdown",
      "metadata": {
        "id": "R5i2d2N5aljD",
        "colab_type": "text"
      },
      "source": [
        "Identify the station that is the most popular overall"
      ]
    },
    {
      "cell_type": "code",
      "metadata": {
        "id": "xm65BnZ9aAMH",
        "colab_type": "code",
        "colab": {
          "base_uri": "https://localhost:8080/",
          "height": 70
        },
        "outputId": "b39dfaaf-e7ef-4847-85e6-8a2734404adf"
      },
      "source": [
        "z = df[(df['kind'] == 'STATION') & (df['utilib'] == 0)]\n",
        "st = z.groupby(['public_name']).size().sort_values(ascending=False)\n",
        "st.head(1)"
      ],
      "execution_count": 103,
      "outputs": [
        {
          "output_type": "execute_result",
          "data": {
            "text/plain": [
              "public_name\n",
              "SÃ¨vres/WolfenbÃ¼ttel/1    11\n",
              "dtype: int64"
            ]
          },
          "metadata": {
            "tags": []
          },
          "execution_count": 103
        }
      ]
    },
    {
      "cell_type": "markdown",
      "metadata": {
        "id": "2Q5_t3_PazTs",
        "colab_type": "text"
      },
      "source": [
        "Determine the station that is the most popular at the most popular picking hour."
      ]
    },
    {
      "cell_type": "code",
      "metadata": {
        "id": "ua4nNIXdaFMY",
        "colab_type": "code",
        "colab": {
          "base_uri": "https://localhost:8080/",
          "height": 176
        },
        "outputId": "87c0dc6c-e2a8-4e97-eb1e-de1b7bf8803f"
      },
      "source": [
        "a = z[(z['hour'] == 21)]\n",
        "b = a.groupby(['public_name']).size().sort_values(ascending=False)\n",
        "b.head(7)"
      ],
      "execution_count": 109,
      "outputs": [
        {
          "output_type": "execute_result",
          "data": {
            "text/plain": [
              "public_name\n",
              "Paris/Tronchet/19                     4\n",
              "Alfortville/Europe/22                 2\n",
              "Paris/Voltaire/182                    2\n",
              "Paris/Flandre/61                      2\n",
              "Paris/Danton/8                        2\n",
              "ChÃ¢tenay-Malabry/Jean JaurÃ¨s/280    2\n",
              "Paris/HÃ´pital/47                     2\n",
              "dtype: int64"
            ]
          },
          "metadata": {
            "tags": []
          },
          "execution_count": 109
        }
      ]
    },
    {
      "cell_type": "markdown",
      "metadata": {
        "id": "NTw8FS_Da_Ud",
        "colab_type": "text"
      },
      "source": [
        "Identify the postal code that is the most popular for picking up Blue cars and if the most popular station belongs to the postal code overall and at the most popular picking hour.\n",
        "\n"
      ]
    },
    {
      "cell_type": "code",
      "metadata": {
        "id": "xb2dL2rRaNVC",
        "colab_type": "code",
        "colab": {
          "base_uri": "https://localhost:8080/",
          "height": 70
        },
        "outputId": "a66cad2a-0b90-4643-a368-1b405c1c5e30"
      },
      "source": [
        "x = df[(df['utilib'] == 0 ) & (df['slots'] > 0)]\n",
        "pst = x.groupby('postal_code').size().sort_values(ascending=False)\n",
        "pst.head(1)\n"
      ],
      "execution_count": 111,
      "outputs": [
        {
          "output_type": "execute_result",
          "data": {
            "text/plain": [
              "postal_code\n",
              "75015    156\n",
              "dtype: int64"
            ]
          },
          "metadata": {
            "tags": []
          },
          "execution_count": 111
        }
      ]
    },
    {
      "cell_type": "code",
      "metadata": {
        "id": "uIeSMQ0NbA-o",
        "colab_type": "code",
        "colab": {
          "base_uri": "https://localhost:8080/",
          "height": 958
        },
        "outputId": "b8f4e2fb-bd32-4d64-fe9f-1b6739eba8c7"
      },
      "source": [
        "c = df[(df['utilib'] == 0 ) & (df['slots'] > 0) & (df['postal_code'] == 75015)]\n",
        "dst = c.groupby('public_name').size().sort_values(ascending=False)\n",
        "dst"
      ],
      "execution_count": 128,
      "outputs": [
        {
          "output_type": "execute_result",
          "data": {
            "text/plain": [
              "public_name\n",
              "Paris/Pasteur Montparnasse/Parking         7\n",
              "Paris/ArrivÃ©e/16                          6\n",
              "Paris/Convention/171                       5\n",
              "Paris/Finlay/43                            5\n",
              "Paris/Miollis/21                           5\n",
              "Paris/Lecourbe/178                         5\n",
              "Paris/Vaugirard/20                         5\n",
              "Paris/SÃ©bastien Mercier/44                4\n",
              "Paris/Ãmile Zola/143                      4\n",
              "Paris/Grenelle/37                          4\n",
              "Paris/Dantzig/80                           4\n",
              "Paris/Ãmile Duclaux/19                    4\n",
              "Paris/Morillons/95                         4\n",
              "Paris/Olier/15                             4\n",
              "Paris/Pasteur/41                           4\n",
              "Paris/Colonel Pierre Avia/1                4\n",
              "Paris/Suffren/161                          4\n",
              "Paris/Balard/108                           4\n",
              "Paris/Suffren/44                           4\n",
              "Paris/Commerce/5                           3\n",
              "Paris/HÃ©ricart/54                         3\n",
              "Paris/Cambronne/Parking                    3\n",
              "Paris/Cotentin/29                          3\n",
              "Paris/Dantzig/37                           3\n",
              "Paris/Etienne Pernet/26                    3\n",
              "Paris/FÃ©lix Faure/109                     3\n",
              "Paris/Houdart de Lamotte/2                 3\n",
              "Paris/Ãmile Zola/65                       3\n",
              "Paris/Mademoiselle/22                      3\n",
              "Paris/Suffren/2                            3\n",
              "Paris/Paul Barruel/44                      3\n",
              "Paris/Lourmel/33                           3\n",
              "Paris/Mademoiselle/67                      2\n",
              "Paris/Balard/18                            2\n",
              "Paris/Olivier de Serres/3                  2\n",
              "Paris/Vaugirard/230                        2\n",
              "Paris/Convention/75                        2\n",
              "Paris/Croix Nivert/192                     2\n",
              "Paris/Suffren/78                           2\n",
              "Paris/Emile Zola/6                         2\n",
              "Paris/Lourmel/79                           2\n",
              "Paris/VouillÃ©/47                          2\n",
              "Paris/Gerbert/11                           2\n",
              "Paris/Lecourbe/63                          2\n",
              "Paris/Jean Sicard/1                        1\n",
              "Paris/Maine/4                              1\n",
              "Paris/FÃ©dÃ©ration/10                      1\n",
              "Paris/Suffren/112                          1\n",
              "Paris/Lecourbe Mairie du XVÃ¨me/Parking    1\n",
              "Paris/Leblanc/19                           1\n",
              "Paris/Lacordaire/56                        1\n",
              "dtype: int64"
            ]
          },
          "metadata": {
            "tags": []
          },
          "execution_count": 128
        }
      ]
    },
    {
      "cell_type": "code",
      "metadata": {
        "id": "pGc6vPzobEiZ",
        "colab_type": "code",
        "colab": {
          "base_uri": "https://localhost:8080/",
          "height": 141
        },
        "outputId": "9ae14f3d-789c-4ae9-ff99-05b90cc56f0d"
      },
      "source": [
        "c = df[(df['utilib'] == 0 ) & (df['slots'] > 0) & (df['hour'] == 21) & (df['postal_code'] == 75015)]\n",
        "dst = c.groupby('public_name').size().sort_values(ascending=False)\n",
        "dst"
      ],
      "execution_count": 129,
      "outputs": [
        {
          "output_type": "execute_result",
          "data": {
            "text/plain": [
              "public_name\n",
              "Paris/SÃ©bastien Mercier/44    1\n",
              "Paris/Olivier de Serres/3      1\n",
              "Paris/Mademoiselle/67          1\n",
              "Paris/Cambronne/Parking        1\n",
              "Paris/Balard/18                1\n",
              "dtype: int64"
            ]
          },
          "metadata": {
            "tags": []
          },
          "execution_count": 129
        }
      ]
    },
    {
      "cell_type": "markdown",
      "metadata": {
        "id": "IeDnnOo9fEWW",
        "colab_type": "text"
      },
      "source": [
        "###1.63 Utilib 1.4"
      ]
    },
    {
      "cell_type": "markdown",
      "metadata": {
        "id": "HLlc5zURfSRt",
        "colab_type": "text"
      },
      "source": [
        "Identify the most popular hour of the day for picking up a utilib car in the city of Paris over the month of April 2018\n",
        "\n"
      ]
    },
    {
      "cell_type": "code",
      "metadata": {
        "id": "Ufyu5BqPfbWQ",
        "colab_type": "code",
        "colab": {
          "base_uri": "https://localhost:8080/",
          "height": 141
        },
        "outputId": "4dbe4186-e4f0-4b96-fd0b-17f0951c9243"
      },
      "source": [
        "x = df[(df['city'] == 'Paris') & (df['utilib_1.4'] == 0)]\n",
        "pophr = x.groupby(['hour']).size().sort_values(ascending=False)\n",
        "pophr.head()"
      ],
      "execution_count": 115,
      "outputs": [
        {
          "output_type": "execute_result",
          "data": {
            "text/plain": [
              "hour\n",
              "21    129\n",
              "8     120\n",
              "2     116\n",
              "16    115\n",
              "3     112\n",
              "dtype: int64"
            ]
          },
          "metadata": {
            "tags": []
          },
          "execution_count": 115
        }
      ]
    },
    {
      "cell_type": "markdown",
      "metadata": {
        "id": "jUvBk50EfTP0",
        "colab_type": "text"
      },
      "source": [
        "Determine the most popular hour for returning cars"
      ]
    },
    {
      "cell_type": "code",
      "metadata": {
        "id": "wMdU4DSuflZR",
        "colab_type": "code",
        "colab": {
          "base_uri": "https://localhost:8080/",
          "height": 141
        },
        "outputId": "6169370d-0e33-4f0d-e2c6-5b512fbcd002"
      },
      "source": [
        "y = df[(df['slots'] == 0) & (df['utilib_1.4'] > 0)]\n",
        "hr = y.groupby(['hour']).size().sort_values(ascending=False)\n",
        "hr.head()\n"
      ],
      "execution_count": 116,
      "outputs": [
        {
          "output_type": "execute_result",
          "data": {
            "text/plain": [
              "hour\n",
              "3     19\n",
              "5     17\n",
              "9     16\n",
              "22    15\n",
              "21    13\n",
              "dtype: int64"
            ]
          },
          "metadata": {
            "tags": []
          },
          "execution_count": 116
        }
      ]
    },
    {
      "cell_type": "markdown",
      "metadata": {
        "id": "nBqXdoNpfTda",
        "colab_type": "text"
      },
      "source": [
        "Identify the station that is the most popular overal"
      ]
    },
    {
      "cell_type": "code",
      "metadata": {
        "id": "vutMiJtlfw9B",
        "colab_type": "code",
        "colab": {
          "base_uri": "https://localhost:8080/",
          "height": 70
        },
        "outputId": "791e357f-055b-4c42-84b9-05e0ccb388d8"
      },
      "source": [
        "z = df[(df['kind'] == 'STATION') & (df['utilib_1.4'] == 0)]\n",
        "st = z.groupby(['public_name']).size().sort_values(ascending=False)\n",
        "st.head(1)"
      ],
      "execution_count": 117,
      "outputs": [
        {
          "output_type": "execute_result",
          "data": {
            "text/plain": [
              "public_name\n",
              "Paris/Voltaire/182    11\n",
              "dtype: int64"
            ]
          },
          "metadata": {
            "tags": []
          },
          "execution_count": 117
        }
      ]
    },
    {
      "cell_type": "markdown",
      "metadata": {
        "id": "8vtl4Z8xfTqT",
        "colab_type": "text"
      },
      "source": [
        "Determine the station that is the most popular at the most popular picking hour."
      ]
    },
    {
      "cell_type": "code",
      "metadata": {
        "id": "bK2icL-dgNxL",
        "colab_type": "code",
        "colab": {
          "base_uri": "https://localhost:8080/",
          "height": 70
        },
        "outputId": "714a8c01-67f2-450c-c26f-aa38ba5a1f2d"
      },
      "source": [
        "a = z[(z['hour'] == 21)]\n",
        "b = a.groupby(['public_name']).size().sort_values(ascending=False)\n",
        "b.head(1)"
      ],
      "execution_count": 119,
      "outputs": [
        {
          "output_type": "execute_result",
          "data": {
            "text/plain": [
              "public_name\n",
              "Paris/Tronchet/19    4\n",
              "dtype: int64"
            ]
          },
          "metadata": {
            "tags": []
          },
          "execution_count": 119
        }
      ]
    },
    {
      "cell_type": "markdown",
      "metadata": {
        "id": "5gX6IMmFgbvf",
        "colab_type": "text"
      },
      "source": [
        "Identify the postal code that is the most popular for picking up Blue cars and if the most popular station belongs to the postal code overall and at the most popular picking hour\n"
      ]
    },
    {
      "cell_type": "code",
      "metadata": {
        "id": "J43XbIa4hI5P",
        "colab_type": "code",
        "colab": {
          "base_uri": "https://localhost:8080/",
          "height": 70
        },
        "outputId": "d7c45749-06dd-47c5-965e-64979a060f53"
      },
      "source": [
        "x = df[(df['utilib_1.4'] == 0 ) & (df['slots'] > 0)]\n",
        "pst = x.groupby('postal_code').size().sort_values(ascending=False)\n",
        "pst.head(1)"
      ],
      "execution_count": 120,
      "outputs": [
        {
          "output_type": "execute_result",
          "data": {
            "text/plain": [
              "postal_code\n",
              "75015    150\n",
              "dtype: int64"
            ]
          },
          "metadata": {
            "tags": []
          },
          "execution_count": 120
        }
      ]
    },
    {
      "cell_type": "code",
      "metadata": {
        "id": "2oZNJWb5hPhh",
        "colab_type": "code",
        "colab": {
          "base_uri": "https://localhost:8080/",
          "height": 941
        },
        "outputId": "5273f8cd-34b7-4d79-c7c3-1a408e4b957a"
      },
      "source": [
        "c = df[(df['utilib_1.4'] == 0 ) & (df['slots'] > 0) & (df['postal_code'] == 75015)]\n",
        "dst = c.groupby('public_name').size().sort_values(ascending=False)\n",
        "dst"
      ],
      "execution_count": 130,
      "outputs": [
        {
          "output_type": "execute_result",
          "data": {
            "text/plain": [
              "public_name\n",
              "Paris/ArrivÃ©e/16                     7\n",
              "Paris/Pasteur Montparnasse/Parking    7\n",
              "Paris/Balard/108                      6\n",
              "Paris/Miollis/21                      6\n",
              "Paris/Suffren/161                     5\n",
              "Paris/Convention/171                  5\n",
              "Paris/Finlay/43                       5\n",
              "Paris/Lecourbe/178                    5\n",
              "Paris/Vaugirard/20                    5\n",
              "Paris/Ãmile Duclaux/19               4\n",
              "Paris/Colonel Pierre Avia/1           4\n",
              "Paris/Olier/15                        4\n",
              "Paris/Dantzig/80                      4\n",
              "Paris/Grenelle/37                     4\n",
              "Paris/Suffren/44                      3\n",
              "Paris/Ãmile Zola/143                 3\n",
              "Paris/Balard/18                       3\n",
              "Paris/Cambronne/Parking               3\n",
              "Paris/Commerce/5                      3\n",
              "Paris/Cotentin/29                     3\n",
              "Paris/Dantzig/37                      3\n",
              "Paris/FÃ©lix Faure/109                3\n",
              "Paris/Houdart de Lamotte/2            3\n",
              "Paris/Suffren/2                       3\n",
              "Paris/HÃ©ricart/54                    3\n",
              "Paris/Ãmile Zola/65                  3\n",
              "Paris/Morillons/95                    3\n",
              "Paris/Paul Barruel/44                 3\n",
              "Paris/Pasteur/41                      3\n",
              "Paris/SÃ©bastien Mercier/44           3\n",
              "Paris/Mademoiselle/22                 3\n",
              "Paris/VouillÃ©/47                     2\n",
              "Paris/Convention/75                   2\n",
              "Paris/Olivier de Serres/3             2\n",
              "Paris/Croix Nivert/192                2\n",
              "Paris/Lecourbe/63                     2\n",
              "Paris/Vaugirard/230                   2\n",
              "Paris/Mademoiselle/67                 2\n",
              "Paris/Gerbert/11                      2\n",
              "Paris/Lourmel/79                      2\n",
              "Paris/Etienne Pernet/26               1\n",
              "Paris/Leblanc/19                      1\n",
              "Paris/Maine/4                         1\n",
              "Paris/Grenelle/139                    1\n",
              "Paris/Lourmel/33                      1\n",
              "Paris/Jean Sicard/1                   1\n",
              "Paris/Lacordaire/56                   1\n",
              "Paris/Suffren/112                     1\n",
              "Paris/Suffren/78                      1\n",
              "Paris/Emile Zola/6                    1\n",
              "dtype: int64"
            ]
          },
          "metadata": {
            "tags": []
          },
          "execution_count": 130
        }
      ]
    },
    {
      "cell_type": "code",
      "metadata": {
        "id": "LCdzLux3hUFS",
        "colab_type": "code",
        "colab": {
          "base_uri": "https://localhost:8080/",
          "height": 158
        },
        "outputId": "f31e9ac5-34d5-40e6-fb24-3fdca82e6473"
      },
      "source": [
        "c = df[(df['utilib_1.4'] == 0 ) & (df['slots'] > 0) & (df['hour'] == 21) & (df['postal_code'] == 75015)]\n",
        "dst = c.groupby('public_name').size().sort_values(ascending=False)\n",
        "dst"
      ],
      "execution_count": 131,
      "outputs": [
        {
          "output_type": "execute_result",
          "data": {
            "text/plain": [
              "public_name\n",
              "Paris/SÃ©bastien Mercier/44    1\n",
              "Paris/Olivier de Serres/3      1\n",
              "Paris/Mademoiselle/67          1\n",
              "Paris/Cambronne/Parking        1\n",
              "Paris/Balard/18                1\n",
              "Paris/Balard/108               1\n",
              "dtype: int64"
            ]
          },
          "metadata": {
            "tags": []
          },
          "execution_count": 131
        }
      ]
    }
  ]
}